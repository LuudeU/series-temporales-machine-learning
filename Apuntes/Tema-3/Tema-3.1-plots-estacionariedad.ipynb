{
 "cells": [
  {
   "cell_type": "code",
   "execution_count": 2,
   "metadata": {},
   "outputs": [],
   "source": [
    "import numpy as np\n",
    "import matplotlib.pyplot as plt\n",
    "import os"
   ]
  },
  {
   "cell_type": "markdown",
   "metadata": {},
   "source": [
    "# Haciendo gráficos y viendo estacionariedad"
   ]
  },
  {
   "cell_type": "code",
   "execution_count": 56,
   "metadata": {},
   "outputs": [],
   "source": [
    "# Chequenado y guardando el nombre del archivo para leer\n",
    "if os.path.exists('../../Data/googleStock/Google_Stock_Train (2010-2022).csv'):\n",
    "    filename = '../../Data/googleStock/Google_Stock_Train (2010-2022).csv'"
   ]
  },
  {
   "cell_type": "code",
   "execution_count": 57,
   "metadata": {},
   "outputs": [
    {
     "name": "stdout",
     "output_type": "stream",
     "text": [
      "Date          object\n",
      "Open         float64\n",
      "High         float64\n",
      "Low          float64\n",
      "Close        float64\n",
      "Adj Close    float64\n",
      "Volume         int64\n",
      "dtype: object\n"
     ]
    },
    {
     "data": {
      "text/html": [
       "<div>\n",
       "<style scoped>\n",
       "    .dataframe tbody tr th:only-of-type {\n",
       "        vertical-align: middle;\n",
       "    }\n",
       "\n",
       "    .dataframe tbody tr th {\n",
       "        vertical-align: top;\n",
       "    }\n",
       "\n",
       "    .dataframe thead th {\n",
       "        text-align: right;\n",
       "    }\n",
       "</style>\n",
       "<table border=\"1\" class=\"dataframe\">\n",
       "  <thead>\n",
       "    <tr style=\"text-align: right;\">\n",
       "      <th></th>\n",
       "      <th>Date</th>\n",
       "      <th>Open</th>\n",
       "      <th>High</th>\n",
       "      <th>Low</th>\n",
       "      <th>Close</th>\n",
       "      <th>Adj Close</th>\n",
       "      <th>Volume</th>\n",
       "    </tr>\n",
       "  </thead>\n",
       "  <tbody>\n",
       "    <tr>\n",
       "      <th>0</th>\n",
       "      <td>2010-01-04</td>\n",
       "      <td>15.689439</td>\n",
       "      <td>15.753504</td>\n",
       "      <td>15.621622</td>\n",
       "      <td>15.684434</td>\n",
       "      <td>15.684434</td>\n",
       "      <td>78169752</td>\n",
       "    </tr>\n",
       "    <tr>\n",
       "      <th>1</th>\n",
       "      <td>2010-01-05</td>\n",
       "      <td>15.695195</td>\n",
       "      <td>15.711712</td>\n",
       "      <td>15.554054</td>\n",
       "      <td>15.615365</td>\n",
       "      <td>15.615365</td>\n",
       "      <td>120067812</td>\n",
       "    </tr>\n",
       "    <tr>\n",
       "      <th>2</th>\n",
       "      <td>2010-01-06</td>\n",
       "      <td>15.662162</td>\n",
       "      <td>15.662162</td>\n",
       "      <td>15.174174</td>\n",
       "      <td>15.221722</td>\n",
       "      <td>15.221722</td>\n",
       "      <td>158988852</td>\n",
       "    </tr>\n",
       "    <tr>\n",
       "      <th>3</th>\n",
       "      <td>2010-01-07</td>\n",
       "      <td>15.250250</td>\n",
       "      <td>15.265265</td>\n",
       "      <td>14.831081</td>\n",
       "      <td>14.867367</td>\n",
       "      <td>14.867367</td>\n",
       "      <td>256315428</td>\n",
       "    </tr>\n",
       "    <tr>\n",
       "      <th>4</th>\n",
       "      <td>2010-01-08</td>\n",
       "      <td>14.814815</td>\n",
       "      <td>15.096346</td>\n",
       "      <td>14.742492</td>\n",
       "      <td>15.065566</td>\n",
       "      <td>15.065566</td>\n",
       "      <td>188783028</td>\n",
       "    </tr>\n",
       "  </tbody>\n",
       "</table>\n",
       "</div>"
      ],
      "text/plain": [
       "         Date       Open       High        Low      Close  Adj Close  \\\n",
       "0  2010-01-04  15.689439  15.753504  15.621622  15.684434  15.684434   \n",
       "1  2010-01-05  15.695195  15.711712  15.554054  15.615365  15.615365   \n",
       "2  2010-01-06  15.662162  15.662162  15.174174  15.221722  15.221722   \n",
       "3  2010-01-07  15.250250  15.265265  14.831081  14.867367  14.867367   \n",
       "4  2010-01-08  14.814815  15.096346  14.742492  15.065566  15.065566   \n",
       "\n",
       "      Volume  \n",
       "0   78169752  \n",
       "1  120067812  \n",
       "2  158988852  \n",
       "3  256315428  \n",
       "4  188783028  "
      ]
     },
     "execution_count": 57,
     "metadata": {},
     "output_type": "execute_result"
    }
   ],
   "source": [
    "# leyendo con pandas\n",
    "import pandas as pd\n",
    "df = pd.read_csv(filename)  # esta línea abre el archivo, lo lee y crea el dataframe\n",
    "print(df.dtypes)    # Siempre es importante saber qué tipo de dato es cada columna\n",
    "df.head() # Mirando las primeras columnas"
   ]
  },
  {
   "cell_type": "markdown",
   "metadata": {},
   "source": [
    "En la información anterior se puede ver que los timestamps (fechas), son de tipo objeto. Vamos a convertirlos a objetos datetime para poder manejarlos mejor. También vamos a hacer una inspección ocular para ver si existe alguna estacionariedad"
   ]
  },
  {
   "cell_type": "code",
   "execution_count": 59,
   "metadata": {},
   "outputs": [],
   "source": [
    "df.Date = pd.to_datetime(df.Date) # casting como objetos datetime"
   ]
  },
  {
   "cell_type": "code",
   "execution_count": 64,
   "metadata": {},
   "outputs": [
    {
     "data": {
      "image/png": "[encoded data removed]",
      "text/plain": [
       "<Figure size 640x480 with 6 Axes>"
      ]
     },
     "metadata": {},
     "output_type": "display_data"
    }
   ],
   "source": [
    "# Pandas tiene wrappers de matplotlib para dibujar rápidamente\n",
    "df.plot(x = 'Date', subplots=True, layout=(3,2))\n",
    "plt.tight_layout()\n",
    "plt.show()"
   ]
  },
  {
   "cell_type": "markdown",
   "metadata": {},
   "source": [
    "Claramente esta ST no es estacionaria, en ninguna de sus variables. De todos modos cuantifiquemos un poco cómo se mueve la distribución de los datos"
   ]
  },
  {
   "cell_type": "markdown",
   "metadata": {},
   "source": [
    "# Analizando la media cada 60 dias \n",
    "\n",
    "Veremos la evolución de las medias y las varianazas, una manera de observar cómo varía la distribución de datos en ventanas temporales"
   ]
  },
  {
   "cell_type": "code",
   "execution_count": 117,
   "metadata": {},
   "outputs": [],
   "source": [
    "# timedelta nos sirve para operar con intervalos de tiempo\n",
    "from datetime import timedelta\n",
    "\n",
    "delta = timedelta(days = 60) # estos 60 días son corridos, no se corresponden con días con datos\n",
    "d = df.Date.iloc[0]\n",
    "medias = []\n",
    "varianzas = []\n",
    "while d < df.Date.iloc[-1]:  # while se ejecuta siempre que se cumpla la condición\n",
    "    mask_1 = df.Date >= d\n",
    "    mask_2 = df.Date < d + delta\n",
    "    medias.append(df.loc[mask_1 & mask_2].mean().to_numpy()) # & es el operador and bit a bit, sino no funciona\n",
    "    varianzas.append(df.loc[mask_1 & mask_2].std().to_numpy())\n",
    "    d += delta"
   ]
  },
  {
   "cell_type": "code",
   "execution_count": 119,
   "metadata": {},
   "outputs": [
    {
     "data": {
      "text/plain": [
       "array([Timestamp('2010-02-02 09:08:34.285714176'), 13.934494000000003,\n",
       "       14.048018238095237, 13.766373595238095, 13.90083542857143,\n",
       "       13.90083542857143, 146522568.85714287], dtype=object)"
      ]
     },
     "execution_count": 119,
     "metadata": {},
     "output_type": "execute_result"
    }
   ],
   "source": [
    "medias[0]"
   ]
  },
  {
   "cell_type": "code",
   "execution_count": 112,
   "metadata": {},
   "outputs": [
    {
     "name": "stdout",
     "output_type": "stream",
     "text": [
      "N de elementos de medias: 80 - varianzas 80 - tstamps 80\n"
     ]
    },
    {
     "data": {
      "text/html": [
       "<div>\n",
       "<style scoped>\n",
       "    .dataframe tbody tr th:only-of-type {\n",
       "        vertical-align: middle;\n",
       "    }\n",
       "\n",
       "    .dataframe tbody tr th {\n",
       "        vertical-align: top;\n",
       "    }\n",
       "\n",
       "    .dataframe thead th {\n",
       "        text-align: right;\n",
       "    }\n",
       "</style>\n",
       "<table border=\"1\" class=\"dataframe\">\n",
       "  <thead>\n",
       "    <tr style=\"text-align: right;\">\n",
       "      <th></th>\n",
       "      <th>0</th>\n",
       "      <th>1</th>\n",
       "    </tr>\n",
       "  </thead>\n",
       "  <tbody>\n",
       "    <tr>\n",
       "      <th>Date</th>\n",
       "      <td>2010-02-02 09:08:34.285714176</td>\n",
       "      <td>2010-04-03 12:52:40.975609856</td>\n",
       "    </tr>\n",
       "    <tr>\n",
       "      <th>Open</th>\n",
       "      <td>13.934494</td>\n",
       "      <td>14.012842</td>\n",
       "    </tr>\n",
       "    <tr>\n",
       "      <th>High</th>\n",
       "      <td>14.048018</td>\n",
       "      <td>14.143522</td>\n",
       "    </tr>\n",
       "    <tr>\n",
       "      <th>Low</th>\n",
       "      <td>13.766374</td>\n",
       "      <td>13.895719</td>\n",
       "    </tr>\n",
       "    <tr>\n",
       "      <th>Close</th>\n",
       "      <td>13.900835</td>\n",
       "      <td>14.013367</td>\n",
       "    </tr>\n",
       "    <tr>\n",
       "      <th>Adj Close</th>\n",
       "      <td>13.900835</td>\n",
       "      <td>14.013367</td>\n",
       "    </tr>\n",
       "    <tr>\n",
       "      <th>Volume</th>\n",
       "      <td>146522568.857143</td>\n",
       "      <td>142126609.170732</td>\n",
       "    </tr>\n",
       "  </tbody>\n",
       "</table>\n",
       "</div>"
      ],
      "text/plain": [
       "                                       0                              1\n",
       "Date       2010-02-02 09:08:34.285714176  2010-04-03 12:52:40.975609856\n",
       "Open                           13.934494                      14.012842\n",
       "High                           14.048018                      14.143522\n",
       "Low                            13.766374                      13.895719\n",
       "Close                          13.900835                      14.013367\n",
       "Adj Close                      13.900835                      14.013367\n",
       "Volume                  146522568.857143               142126609.170732"
      ]
     },
     "execution_count": 112,
     "metadata": {},
     "output_type": "execute_result"
    }
   ],
   "source": [
    "# veamos la estructura de los datos obtenidos en las listas\n",
    "print(f'N de elementos de medias: {len(medias)} - varianzas {len(varianzas)} - tstamps {len(tstamps)}')\n",
    "pd.concat([medias[0].T,medias[1].T],axis=1)"
   ]
  },
  {
   "cell_type": "code",
   "execution_count": 114,
   "metadata": {},
   "outputs": [
    {
     "data": {
      "text/plain": [
       "Index(['Date', 'Open', 'High', 'Low', 'Close', 'Adj Close', 'Volume'], dtype='object')"
      ]
     },
     "execution_count": 114,
     "metadata": {},
     "output_type": "execute_result"
    }
   ],
   "source": [
    "medias[0].set_index()"
   ]
  },
  {
   "cell_type": "code",
   "execution_count": 54,
   "metadata": {},
   "outputs": [
    {
     "data": {
      "text/plain": [
       "<BarContainer object of 80 artists>"
      ]
     },
     "execution_count": 54,
     "metadata": {},
     "output_type": "execute_result"
    },
    {
     "data": {
      "image/png": "[encoded data removed]",
      "text/plain": [
       "<Figure size 1500x1000 with 2 Axes>"
      ]
     },
     "metadata": {},
     "output_type": "display_data"
    }
   ],
   "source": [
    "fig, axs = plt.subplots(2,1, figsize = (15,10))\n",
    "axs[0].bar(np.arange(len(medias)), medias)\n",
    "axs[1].bar(np.arange(len(varianzas)), varianzas)\n"
   ]
  },
  {
   "cell_type": "code",
   "execution_count": 52,
   "metadata": {},
   "outputs": [
    {
     "data": {
      "text/plain": [
       "[13.90083542857143,\n",
       " 14.013367,\n",
       " 12.192704325581396,\n",
       " 11.963878512195121,\n",
       " 13.394310952380952,\n",
       " 14.931785414634147,\n",
       " 15.395651899999999,\n",
       " 14.288957558139534,\n",
       " 12.956133024390244,\n",
       " 13.930290720930229,\n",
       " 13.559388658536587,\n",
       " 15.174174142857142,\n",
       " 15.356382025641024,\n",
       " 15.629458804878048,\n",
       " 14.86079686046512,\n",
       " 15.29703480487805,\n",
       " 17.99983681395349,\n",
       " 17.015554076923078,\n",
       " 18.55893385,\n",
       " 20.151633414634144,\n",
       " 21.516809658536587,\n",
       " 22.367600441860464,\n",
       " 21.905814292682926,\n",
       " 25.69779072093024,\n",
       " 28.28891087179487,\n",
       " 29.389161404761904,\n",
       " 27.302365853658536,\n",
       " 29.135073170731708,\n",
       " 29.41250006976744,\n",
       " 27.40884165853659,\n",
       " 26.096768536585365,\n",
       " 27.8178502,\n",
       " 27.46752378571428,\n",
       " 29.692119095238095,\n",
       " 32.834219731707314,\n",
       " 36.55563960465116,\n",
       " 37.69267953846155,\n",
       " 36.80478561904762,\n",
       " 37.04418307317073,\n",
       " 36.490881,\n",
       " 40.0383095,\n",
       " 40.0262073902439,\n",
       " 40.58556107317073,\n",
       " 42.23997536585366,\n",
       " 45.264069906976744,\n",
       " 48.555737675,\n",
       " 47.07416654761904,\n",
       " 50.54954665116279,\n",
       " 53.741591973684216,\n",
       " 55.8283254883721,\n",
       " 52.486962999999996,\n",
       " 57.37840480952383,\n",
       " 61.3066829512195,\n",
       " 56.00312783720929,\n",
       " 52.84787184615384,\n",
       " 56.413699849999986,\n",
       " 60.3032441860465,\n",
       " 55.43214995000001,\n",
       " 59.257663,\n",
       " 62.20592833333334,\n",
       " 67.04943707499999,\n",
       " 71.45690265853659,\n",
       " 60.458268121951235,\n",
       " 71.37859526190475,\n",
       " 77.36808553658537,\n",
       " 76.83940911363636,\n",
       " 88.05840987179488,\n",
       " 97.70460956097561,\n",
       " 108.94941671428572,\n",
       " 118.80587804878047,\n",
       " 134.5285697674419,\n",
       " 140.53925670731707,\n",
       " 145.99330938095238,\n",
       " 136.2711372,\n",
       " 131.71086966666667,\n",
       " 112.90569534146341,\n",
       " 114.86213363414635,\n",
       " 101.91069720930231,\n",
       " 93.78550064999999,\n",
       " 87.52249900000001]"
      ]
     },
     "execution_count": 52,
     "metadata": {},
     "output_type": "execute_result"
    }
   ],
   "source": [
    "medias"
   ]
  },
  {
   "cell_type": "code",
   "execution_count": 53,
   "metadata": {},
   "outputs": [
    {
     "data": {
      "text/plain": [
       "[0.7397756677858545,\n",
       " 0.41506337266060944,\n",
       " 0.4738378340280725,\n",
       " 0.4637372520413969,\n",
       " 1.3231085084241903,\n",
       " 0.4200462866563026,\n",
       " 0.23868531287126007,\n",
       " 0.6190698054213235,\n",
       " 0.4680021223794017,\n",
       " 1.0054601668803036,\n",
       " 0.6536337660968722,\n",
       " 0.4581236381071334,\n",
       " 0.6677482219596612,\n",
       " 0.4225440777793021,\n",
       " 0.4740916460296711,\n",
       " 0.9057633943462613,\n",
       " 0.8274129458859287,\n",
       " 0.44427183088524236,\n",
       " 0.6944104165084679,\n",
       " 0.41558625523662224,\n",
       " 0.8948760538689315,\n",
       " 0.3948981236206495,\n",
       " 0.3694642997778845,\n",
       " 1.0922663887580009,\n",
       " 0.7307815314414453,\n",
       " 1.1320436259824378,\n",
       " 0.8423840418154468,\n",
       " 0.7161683107082407,\n",
       " 0.378348328610554,\n",
       " 0.5124485262217862,\n",
       " 0.6887016623588217,\n",
       " 0.6759049626036686,\n",
       " 0.3997270189936966,\n",
       " 2.9106330696063174,\n",
       " 1.0819885513544498,\n",
       " 1.9465178304873052,\n",
       " 1.089252973636951,\n",
       " 1.0877663153562462,\n",
       " 1.1963590506918769,\n",
       " 1.2130944260926366,\n",
       " 0.35568446494962375,\n",
       " 0.9221439336486708,\n",
       " 1.1182956001559334,\n",
       " 0.754175918854273,\n",
       " 2.6869022000514233,\n",
       " 1.1297810640353698,\n",
       " 0.46479460759078645,\n",
       " 1.6813850655711378,\n",
       " 1.7625302946877943,\n",
       " 2.294591784612807,\n",
       " 1.4899131747432965,\n",
       " 1.95373812434001,\n",
       " 1.6293320508321039,\n",
       " 2.73663428231229,\n",
       " 1.4278464227966303,\n",
       " 1.682254365766375,\n",
       " 1.8311740888417314,\n",
       " 1.664593302440507,\n",
       " 1.5217409245945122,\n",
       " 1.671097630150996,\n",
       " 1.7329062572913032,\n",
       " 4.124232720036229,\n",
       " 4.748748810288476,\n",
       " 1.927814555087401,\n",
       " 2.866620271928243,\n",
       " 4.252064347876562,\n",
       " 1.44501723838179,\n",
       " 6.889519907526394,\n",
       " 6.2490689013309835,\n",
       " 3.6277634202682156,\n",
       " 6.110054248782016,\n",
       " 3.4532127537655515,\n",
       " 2.4014163352316715,\n",
       " 4.970110368324443,\n",
       " 7.749083479269461,\n",
       " 3.927147308211335,\n",
       " 4.181517706470437,\n",
       " 4.7238248172172765,\n",
       " 4.559810826131557,\n",
       " 1.1008909967270415]"
      ]
     },
     "execution_count": 53,
     "metadata": {},
     "output_type": "execute_result"
    }
   ],
   "source": [
    "varianzas"
   ]
  },
  {
   "cell_type": "code",
   "execution_count": null,
   "metadata": {},
   "outputs": [],
   "source": []
  }
 ],
 "metadata": {
  "kernelspec": {
   "display_name": "Python 3",
   "language": "python",
   "name": "python3"
  },
  "language_info": {
   "codemirror_mode": {
    "name": "ipython",
    "version": 3
   },
   "file_extension": ".py",
   "mimetype": "text/x-python",
   "name": "python",
   "nbconvert_exporter": "python",
   "pygments_lexer": "ipython3",
   "version": "3.10.12"
  }
 },
 "nbformat": 4,
 "nbformat_minor": 2
}
