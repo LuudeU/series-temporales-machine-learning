{
 "cells": [
  {
   "cell_type": "markdown",
   "metadata": {},
   "source": [
    "# Funciones\n",
    "Las funciones se declaran mediante la palabra clave def. La sintaxis es la siguiente:\n",
    "\n",
    "```\n",
    "def nombre_de_la_funcion( argumentos ):\n",
    "    codigo que se ejecuta\n",
    "    return objeto\n",
    "```\n",
    "## Funciones con argumentos posicionales"
   ]
  },
  {
   "cell_type": "code",
   "execution_count": 1,
   "metadata": {},
   "outputs": [],
   "source": [
    "def lin(a, b, c):\n",
    "    return a + b*c"
   ]
  },
  {
   "cell_type": "code",
   "execution_count": 4,
   "metadata": {},
   "outputs": [
    {
     "name": "stdout",
     "output_type": "stream",
     "text": [
      "23\n"
     ]
    }
   ],
   "source": [
    "print(lin(3,4,5))"
   ]
  },
  {
   "cell_type": "code",
   "execution_count": 5,
   "metadata": {},
   "outputs": [
    {
     "ename": "TypeError",
     "evalue": "lin() missing 1 required positional argument: 'c'",
     "output_type": "error",
     "traceback": [
      "\u001b[0;31m---------------------------------------------------------------------------\u001b[0m",
      "\u001b[0;31mTypeError\u001b[0m                                 Traceback (most recent call last)",
      "Cell \u001b[0;32mIn[5], line 2\u001b[0m\n\u001b[1;32m      1\u001b[0m \u001b[38;5;66;03m# si no se provee alguno de los argumentos tenemos una excepcion (error)\u001b[39;00m\n\u001b[0;32m----> 2\u001b[0m \u001b[43mlin\u001b[49m\u001b[43m(\u001b[49m\u001b[38;5;241;43m2\u001b[39;49m\u001b[43m,\u001b[49m\u001b[38;5;241;43m3\u001b[39;49m\u001b[43m)\u001b[49m\n",
      "\u001b[0;31mTypeError\u001b[0m: lin() missing 1 required positional argument: 'c'"
     ]
    }
   ],
   "source": [
    "# si no se provee alguno de los argumentos tenemos una excepcion (error)\n",
    "lin(2,3)"
   ]
  },
  {
   "cell_type": "markdown",
   "metadata": {},
   "source": [
    "### Valores por defecto\n",
    "Se pueden definir funciones con valores por defecto, que inmediatamente el intérprete entiende como argumentos por palabras clave"
   ]
  },
  {
   "cell_type": "code",
   "execution_count": 9,
   "metadata": {},
   "outputs": [
    {
     "name": "stdout",
     "output_type": "stream",
     "text": [
      "23\n",
      "31\n",
      "15\n"
     ]
    }
   ],
   "source": [
    "def lin(a, b = 4, c =5):\n",
    "    return a + b * c\n",
    "\n",
    "print(lin(3)) # si no pasamos b y c, se toman los valores por defecto\n",
    "print(lin(3, c = 7)) # para los argumentos que llevan nombre ya no importa el orden\n",
    "                        # los que no son provistos mantienen su valor por defecto\n",
    "print(lin(7, c = 8, b = 1)) # el orden verdaderamente no importa"
   ]
  },
  {
   "cell_type": "markdown",
   "metadata": {},
   "source": [
    "## *args\n",
    "Si la función está definida para recibir argumentos por referencia de la siguiente manera, se puede pasar un numero indefinido de argumentos de la siguiente manera"
   ]
  },
  {
   "cell_type": "code",
   "execution_count": 18,
   "metadata": {},
   "outputs": [],
   "source": [
    "def muestra_args(*argumentos):\n",
    "        print(argumentos) # solo imprime los argumentos"
   ]
  },
  {
   "cell_type": "code",
   "execution_count": 20,
   "metadata": {},
   "outputs": [
    {
     "name": "stdout",
     "output_type": "stream",
     "text": [
      "('pepe', 25)\n",
      "(25, 73, 'pepe')\n"
     ]
    }
   ],
   "source": [
    "muestra_args('pepe', lin(5)) # al llamarla imprime una tupla\n",
    "muestra_args(lin(5), 73, 'pepe')"
   ]
  },
  {
   "cell_type": "code",
   "execution_count": 22,
   "metadata": {},
   "outputs": [
    {
     "name": "stdout",
     "output_type": "stream",
     "text": [
      "La suma de los numerillos es 420\n"
     ]
    }
   ],
   "source": [
    "# la utilidad de los *argumentos puede ser diversa, por ejemplo pensemos en\n",
    "# una función que sume todos los argumentos que se le pasen, sin importar cuantos \n",
    "# sean ni el orden\n",
    "\n",
    "def suma_todo(*args):\n",
    "    resultado = 0\n",
    "    for e in args:\n",
    "        resultado += e\n",
    "    return resultado\n",
    "\n",
    "print(f'La suma de los numerillos es {suma_todo(3,4,345,3,1,47,8,9)}')"
   ]
  },
  {
   "cell_type": "markdown",
   "metadata": {},
   "source": [
    "## **kwargs\n",
    "\n",
    "Cuando se quieren proveer argumentos con nombre, hay que definirlos con ** (dos asteriscos) y se interpretan como diccionarios. Veamos como funciona"
   ]
  },
  {
   "cell_type": "code",
   "execution_count": 25,
   "metadata": {},
   "outputs": [
    {
     "ename": "TypeError",
     "evalue": "func() takes 0 positional arguments but 1 was given",
     "output_type": "error",
     "traceback": [
      "\u001b[0;31m---------------------------------------------------------------------------\u001b[0m",
      "\u001b[0;31mTypeError\u001b[0m                                 Traceback (most recent call last)",
      "Cell \u001b[0;32mIn[25], line 4\u001b[0m\n\u001b[1;32m      1\u001b[0m \u001b[38;5;28;01mdef\u001b[39;00m \u001b[38;5;21mfunc\u001b[39m(\u001b[38;5;241m*\u001b[39m\u001b[38;5;241m*\u001b[39mkwargs):\n\u001b[1;32m      2\u001b[0m     \u001b[38;5;28mprint\u001b[39m(kwargs)\n\u001b[0;32m----> 4\u001b[0m \u001b[43mfunc\u001b[49m\u001b[43m(\u001b[49m\u001b[38;5;124;43m'\u001b[39;49m\u001b[38;5;124;43mpepe\u001b[39;49m\u001b[38;5;124;43m'\u001b[39;49m\u001b[43m,\u001b[49m\u001b[43m \u001b[49m\u001b[43ma\u001b[49m\u001b[43m \u001b[49m\u001b[38;5;241;43m=\u001b[39;49m\u001b[43m \u001b[49m\u001b[38;5;241;43m5\u001b[39;49m\u001b[43m)\u001b[49m \u001b[38;5;66;03m# produce un error porque se pasa un argumento posicional 'pepe'\u001b[39;00m\n",
      "\u001b[0;31mTypeError\u001b[0m: func() takes 0 positional arguments but 1 was given"
     ]
    }
   ],
   "source": [
    "def func(**kwargs):\n",
    "    print(kwargs)\n",
    "\n",
    "func('pepe', a = 5) # produce un error porque se pasa un argumento posicional 'pepe'"
   ]
  },
  {
   "cell_type": "code",
   "execution_count": 26,
   "metadata": {},
   "outputs": [
    {
     "name": "stdout",
     "output_type": "stream",
     "text": [
      "{'a': 5, 'b': 7, 'color': 'rojo'}\n"
     ]
    }
   ],
   "source": [
    "func(a=5, b=7, color = 'rojo') # los argumentos son interpretados como un diccionario"
   ]
  },
  {
   "cell_type": "code",
   "execution_count": 33,
   "metadata": {},
   "outputs": [],
   "source": [
    "# redefinamos la func. y veamos un ejemplo de sumar solo los enteros en el argumento\n",
    "\n",
    "def suma_enteros (**kwargs):\n",
    "    resultado = 0\n",
    "    for k, v in kwargs.items():\n",
    "        if type(v) == int:\n",
    "            resultado += v\n",
    "        else:\n",
    "            print(f'el argumento {k} es de tipo {type(v)}')\n",
    "    return resultado\n"
   ]
  },
  {
   "cell_type": "code",
   "execution_count": 34,
   "metadata": {},
   "outputs": [
    {
     "name": "stdout",
     "output_type": "stream",
     "text": [
      "el argumento b es de tipo <class 'str'>\n",
      "el argumento c es de tipo <class 'float'>\n",
      "el argumento d es de tipo <class 'bool'>\n"
     ]
    },
    {
     "data": {
      "text/plain": [
       "21"
      ]
     },
     "execution_count": 34,
     "metadata": {},
     "output_type": "execute_result"
    }
   ],
   "source": [
    "suma_enteros(a=4,b='pepe',c=87.4, d=False, e= 8, f=9)"
   ]
  },
  {
   "cell_type": "markdown",
   "metadata": {},
   "source": [
    "## Funciones con todo tipo de argumentos\n",
    "\n",
    "Cuando se requiere el uso de argumentos posicionales, argumentos con valores por defecto, argumentos indefinidos (*args) y argumentos definidos por claves (**kwargs) se debe respetar el siguiente orden en la definición\n",
    "\n",
    "```\n",
    "def func_name(pos_1, ...., pos_n, def1=val1, ....defn=valn, *args, **kwargs):\n",
    "    code\n",
    "    [return]\n",
    "```"
   ]
  },
  {
   "cell_type": "markdown",
   "metadata": {},
   "source": [
    "# Clases y Objetos\n",
    "\n",
    "Vamos a crear clases y objetos para comprender su utilización"
   ]
  },
  {
   "cell_type": "code",
   "execution_count": 45,
   "metadata": {},
   "outputs": [],
   "source": [
    "class perro: # primero la clase mas simple\n",
    "    descripcion = 'esto es un perro' # atributo descripcion\n",
    "\n",
    "    def ladra(self):    # metodo ladrar\n",
    "        print('guau!')"
   ]
  },
  {
   "cell_type": "code",
   "execution_count": 46,
   "metadata": {},
   "outputs": [],
   "source": [
    "perrito = perro() # creamos la instancia perrito"
   ]
  },
  {
   "cell_type": "code",
   "execution_count": 47,
   "metadata": {},
   "outputs": [
    {
     "name": "stdout",
     "output_type": "stream",
     "text": [
      "esto es un perro\n",
      "guau!\n"
     ]
    }
   ],
   "source": [
    "print(perrito.descripcion) # imprimo el atributo\n",
    "perrito.ladra() # ejecuto el método"
   ]
  },
  {
   "cell_type": "markdown",
   "metadata": {},
   "source": [
    "Si bien la clase previa es casi inútil, nos permite entender qué son los atributos y los métodos. También se ha utilizado la palabra clave _self_ que sirve para indicar todos los métodos y variables pertenecientes a la clase (y que se comparten dentro de la clase). Veamos si no se escribe *self* en el método ladra"
   ]
  },
  {
   "cell_type": "code",
   "execution_count": 54,
   "metadata": {},
   "outputs": [],
   "source": [
    "class perro: \n",
    "    descripcion = 'esto es un perro' # atributo descripcion\n",
    "\n",
    "    def ladra():    # sin self\n",
    "        print('guau!')"
   ]
  },
  {
   "cell_type": "code",
   "execution_count": 55,
   "metadata": {},
   "outputs": [
    {
     "ename": "TypeError",
     "evalue": "perro.ladra() takes 0 positional arguments but 1 was given",
     "output_type": "error",
     "traceback": [
      "\u001b[0;31m---------------------------------------------------------------------------\u001b[0m",
      "\u001b[0;31mTypeError\u001b[0m                                 Traceback (most recent call last)",
      "Cell \u001b[0;32mIn[55], line 2\u001b[0m\n\u001b[1;32m      1\u001b[0m perrin \u001b[38;5;241m=\u001b[39m perro()\n\u001b[0;32m----> 2\u001b[0m \u001b[43mperrin\u001b[49m\u001b[38;5;241;43m.\u001b[39;49m\u001b[43mladra\u001b[49m\u001b[43m(\u001b[49m\u001b[43m)\u001b[49m \u001b[38;5;66;03m#\u001b[39;00m\n",
      "\u001b[0;31mTypeError\u001b[0m: perro.ladra() takes 0 positional arguments but 1 was given"
     ]
    }
   ],
   "source": [
    "perrin = perro()\n",
    "perrin.ladra() #Siempre el interprete pasa como argumento automaticamente self a los metodos"
   ]
  },
  {
   "cell_type": "markdown",
   "metadata": {},
   "source": [
    "### El método __init__()\n",
    "\n",
    "Existen muchos métodos especiales que el intérprete lee de manera diferente. Por ejemplo el método __init__() es ejecutado automáticamente cuando se instancia la clase. Este método es útil para definir atributos que se quieran pasar a la clase al instanciarse, como así tambien realizar acciones por defecto para todos los objetos que se creen. Siguiendo con nuestra clase perro:"
   ]
  },
  {
   "cell_type": "code",
   "execution_count": 57,
   "metadata": {},
   "outputs": [],
   "source": [
    "class perro:\n",
    "    def __init__(self, nombre, edad) -> None:\n",
    "        self.nombre = nombre # agrego el nombre como variable compartida por la clase\n",
    "        self.edad = edad\n",
    "        print(f'Hola, soy {self.nombre}. Me haces caminar?')\n",
    "        self.position = [0,0]\n",
    "    \n",
    "    def ladrar(self):\n",
    "        print('GUAU!')\n",
    "\n",
    "    def caminar(self, pasos, direccion):  # el metodo caminar requiere un escalar y una lista\n",
    "        self.position[0] += pasos*direccion[0]\n",
    "        self.position[1] += pasos*direccion[1]\n",
    "        print(f'mi posicion actual es {self.position}')"
   ]
  },
  {
   "cell_type": "code",
   "execution_count": 59,
   "metadata": {},
   "outputs": [
    {
     "name": "stdout",
     "output_type": "stream",
     "text": [
      "Hola, soy Terry. Me haces caminar?\n"
     ]
    }
   ],
   "source": [
    "terry = perro(nombre='Terry', edad='8') # instanciamos la clase"
   ]
  },
  {
   "cell_type": "code",
   "execution_count": 60,
   "metadata": {},
   "outputs": [
    {
     "name": "stdout",
     "output_type": "stream",
     "text": [
      "mi posicion actual es [3, 0]\n"
     ]
    }
   ],
   "source": [
    "terry.caminar(3,[1,0]) # lo hacemos caminar"
   ]
  },
  {
   "cell_type": "code",
   "execution_count": 62,
   "metadata": {},
   "outputs": [
    {
     "name": "stdout",
     "output_type": "stream",
     "text": [
      "mi posicion actual es [3, 10]\n",
      "GUAU!\n"
     ]
    }
   ],
   "source": [
    "terry.caminar(5,[0,1]) # lo hacemos caminar de nuevo\n",
    "terry.ladrar() # lo hacemos ladrar"
   ]
  },
  {
   "cell_type": "markdown",
   "metadata": {},
   "source": [
    "En los ejemplos anteriores se puede ver que la posición queda guardada como un atributo del objeto terry. De igual modo se pueden crear muchos objetos de la misma clase que tengan sus propios atributos y ejecuten sus métodos, por ejemplo hagamos una lista de perros"
   ]
  },
  {
   "cell_type": "code",
   "execution_count": 69,
   "metadata": {},
   "outputs": [
    {
     "name": "stdout",
     "output_type": "stream",
     "text": [
      "Hola, soy boby. Me haces caminar?\n",
      "Hola, soy manchita. Me haces caminar?\n",
      "Hola, soy colita. Me haces caminar?\n"
     ]
    }
   ],
   "source": [
    "nombres = ['boby', 'manchita', 'colita']\n",
    "edades = [ 3,7, 12]\n",
    "perritos = [perro(nombre=nombres[i], edad=edades[i]) for i in range(len(nombres))]"
   ]
  },
  {
   "cell_type": "code",
   "execution_count": 70,
   "metadata": {},
   "outputs": [
    {
     "name": "stdout",
     "output_type": "stream",
     "text": [
      "<class 'list'>\n",
      "[<class '__main__.perro'>, <class '__main__.perro'>, <class '__main__.perro'>]\n"
     ]
    }
   ],
   "source": [
    "print(type(perritos)) \n",
    "print([type(i) for i in perritos])# veamos que tiene la lista"
   ]
  },
  {
   "cell_type": "code",
   "execution_count": 71,
   "metadata": {},
   "outputs": [
    {
     "name": "stdout",
     "output_type": "stream",
     "text": [
      "mi posicion actual es [3, 3]\n",
      "hola! soy boby, tengo 3 anios y estoy en la posicion [3, 3].\n",
      "hola! soy manchita, tengo 7 anios y estoy en la posicion [0, 0].\n",
      "hola! soy colita, tengo 12 anios y estoy en la posicion [0, 0].\n"
     ]
    }
   ],
   "source": [
    "# hagamos caminar a alguno de ellos\n",
    "perritos[0].caminar(3, [1,1])\n",
    "# veamos las posiciones de cada uno de los perros\n",
    "for p in perritos:\n",
    "    print(f'hola! soy {p.nombre}, tengo {p.edad} anios y estoy en la posicion {p.position}.')"
   ]
  }
 ],
 "metadata": {
  "kernelspec": {
   "display_name": "Python 3",
   "language": "python",
   "name": "python3"
  },
  "language_info": {
   "codemirror_mode": {
    "name": "ipython",
    "version": 3
   },
   "file_extension": ".py",
   "mimetype": "text/x-python",
   "name": "python",
   "nbconvert_exporter": "python",
   "pygments_lexer": "ipython3",
   "version": "3.10.12"
  }
 },
 "nbformat": 4,
 "nbformat_minor": 2
}
