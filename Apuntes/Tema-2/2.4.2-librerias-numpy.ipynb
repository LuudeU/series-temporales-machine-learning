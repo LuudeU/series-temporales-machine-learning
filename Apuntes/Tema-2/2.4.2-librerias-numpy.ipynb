{
 "cells": [
  {
   "cell_type": "markdown",
   "metadata": {
    "slideshow": {
     "slide_type": "slide"
    }
   },
   "source": [
    "# La librería Numpy\n",
    "\n",
    "Para crear un array de NumPy primero hay que importar la librería: "
   ]
  },
  {
   "cell_type": "code",
   "execution_count": 1,
   "metadata": {
    "slideshow": {
     "slide_type": "fragment"
    }
   },
   "outputs": [],
   "source": [
    "import numpy as np # esto importa la librería precompilada en nuestro intérprete\n",
    "                    # y le asigna un alias (np) para no escribir numpy cada vez"
   ]
  },
  {
   "cell_type": "code",
   "execution_count": 6,
   "metadata": {
    "slideshow": {
     "slide_type": "subslide"
    }
   },
   "outputs": [
    {
     "name": "stdout",
     "output_type": "stream",
     "text": [
      "shape: (3, 3) size: 9\n",
      "[1. 1. 1. 1. 1. 1. 1. 1. 1. 1.]\n",
      "[0 1 2 3 4 5 6 7 8 9] int64\n"
     ]
    }
   ],
   "source": [
    "# Se pueden crear arrays de muchas maneras\n",
    "# mediante funciones intrinsecas\n",
    "forma = (3,3)\n",
    "a= np.empty(forma) #crea un array empty (numeros proximos a cero)\n",
    "a=np.zeros(forma) # crea un array de ceros\n",
    "print('shape:',a.shape,'size:',a.size)\n",
    "forma = (10)\n",
    "a=np.ones(forma, dtype=np.float64) #crea un array de unos de tipo float64 (NumPy debe manejar cuidadosamente los tipos y la precision)\n",
    "print(a)\n",
    "a = np.arange(forma) #crea un array con numeros enteros consecutivos\n",
    "print(a, a.dtype) # el atributo dtype nos dice el tipo de dato y los bytes utilizados en cada elemento"
   ]
  },
  {
   "cell_type": "code",
   "execution_count": 7,
   "metadata": {
    "slideshow": {
     "slide_type": "subslide"
    }
   },
   "outputs": [
    {
     "name": "stdout",
     "output_type": "stream",
     "text": [
      "<class 'list'>\n",
      "<class 'numpy.ndarray'>\n",
      "[1 2 3 4 5 6]\n"
     ]
    }
   ],
   "source": [
    "#a partir de una lista/tupla\n",
    "a = [1,2,3,4,5,6]\n",
    "print(type(a))\n",
    "a = np.array(a)\n",
    "print(type(a))\n",
    "print(a)"
   ]
  },
  {
   "cell_type": "markdown",
   "metadata": {},
   "source": [
    "Los arrays de numpy admiten slicing al igual que las listas, pero además admiten masking. Masking refiere a la utilizacion de otros arrays como índices."
   ]
  },
  {
   "cell_type": "code",
   "execution_count": 20,
   "metadata": {},
   "outputs": [
    {
     "name": "stdout",
     "output_type": "stream",
     "text": [
      "el vector [  0  10  20  30  40  50  60  70  80  90 100 110 120 130 140]\n",
      "el vector con los indices idx [2 4 6] [20 40 60]\n",
      "[False False False False False  True  True  True  True  True  True  True\n",
      "  True  True  True] (15,) (15,)\n",
      "[ 50  60  70  80  90 100 110 120 130 140] (10,)\n"
     ]
    }
   ],
   "source": [
    "vec = np.arange(15)*10\n",
    "idxs = np.array([2,4,6])\n",
    "print('el vector',vec)\n",
    "print('el vector con los indices idx', idxs, vec[idxs])\n",
    "mask = vec >= 50  # esta operacion se aplicara elemento a elemento\n",
    "print(mask, mask.shape, vec.shape) # mask tiene la misma forma que vec\n",
    "print(vec[mask], vec[mask].shape) # aplicar la mascara devuelve los elementos con indice True"
   ]
  },
  {
   "cell_type": "markdown",
   "metadata": {
    "slideshow": {
     "slide_type": "subslide"
    }
   },
   "source": [
    "Los arrays de numpy tienen muchos métodos, aparte de las funciones externas que operan sobre ellos"
   ]
  },
  {
   "cell_type": "code",
   "execution_count": 8,
   "metadata": {
    "slideshow": {
     "slide_type": "fragment"
    }
   },
   "outputs": [
    {
     "name": "stdout",
     "output_type": "stream",
     "text": [
      "[1 2 3 4 5 6]\n",
      "5\n",
      "0\n",
      "[0 1 2 3 4 5]\n",
      "63.0\n",
      "[[1 2 3]\n",
      " [4 5 6]]\n",
      "[[1 0 0]\n",
      " [0 1 0]\n",
      " [0 0 1]]\n"
     ]
    },
    {
     "data": {
      "text/plain": [
       "array([[1, 2, 3],\n",
       "       [4, 5, 6]])"
      ]
     },
     "execution_count": 8,
     "metadata": {},
     "output_type": "execute_result"
    }
   ],
   "source": [
    "print(a)\n",
    "print(a.argmax()) #argumento (indice) donde esta el maximo\n",
    "print(a.argmin()) #arg donde esta el minimo\n",
    "print(a.argsort()) #indices ordenados en orden creciente de valores del array\n",
    "b = np.ones(6)*3 # cuando se multiplica por un escalar, se multiplica a cada elemento\n",
    "print(a.dot(b)) #producto interno\n",
    "print(a.reshape((2,3))) #le cambia la forma y lo hace una matriz de shape = (2,3)\n",
    "b=np.diag((1,1,1)) #construye una matriz diagonal con los numeros provistos\n",
    "print(b)\n",
    "a.reshape((2,3)).dot(b) #producto de matrices"
   ]
  },
  {
   "cell_type": "markdown",
   "metadata": {
    "slideshow": {
     "slide_type": "subslide"
    }
   },
   "source": [
    "Numpy tiene muchas funciones matematicas que pueden aplicarse a arrays de manera natural"
   ]
  },
  {
   "cell_type": "code",
   "execution_count": 9,
   "metadata": {
    "slideshow": {
     "slide_type": "subslide"
    }
   },
   "outputs": [
    {
     "name": "stdout",
     "output_type": "stream",
     "text": [
      "1.2246467991473532e-16 2.718281828459045\n",
      "[[ 0.00000000e+00  0.00000000e+00]\n",
      " [ 3.30693964e-01  3.24699469e-01]\n",
      " [ 6.61387927e-01  6.14212713e-01]\n",
      " [ 9.92081891e-01  8.37166478e-01]\n",
      " [ 1.32277585e+00  9.69400266e-01]\n",
      " [ 1.65346982e+00  9.96584493e-01]\n",
      " [ 1.98416378e+00  9.15773327e-01]\n",
      " [ 2.31485774e+00  7.35723911e-01]\n",
      " [ 2.64555171e+00  4.75947393e-01]\n",
      " [ 2.97624567e+00  1.64594590e-01]\n",
      " [ 3.30693964e+00 -1.64594590e-01]\n",
      " [ 3.63763360e+00 -4.75947393e-01]\n",
      " [ 3.96832756e+00 -7.35723911e-01]\n",
      " [ 4.29902153e+00 -9.15773327e-01]\n",
      " [ 4.62971549e+00 -9.96584493e-01]\n",
      " [ 4.96040945e+00 -9.69400266e-01]\n",
      " [ 5.29110342e+00 -8.37166478e-01]\n",
      " [ 5.62179738e+00 -6.14212713e-01]\n",
      " [ 5.95249134e+00 -3.24699469e-01]\n",
      " [ 6.28318531e+00 -2.44929360e-16]]\n"
     ]
    }
   ],
   "source": [
    "print(np.sin(np.pi), np.exp(1))\n",
    "x = np.linspace(0,2*np.pi,20) # genera un array equiespaciado\n",
    "y = np.sin(x)\n",
    "display = np.vstack([x,y]) #me apila los arrays\n",
    "print(display.T) #con la T mayuscula se transpone una matriz"
   ]
  },
  {
   "cell_type": "markdown",
   "metadata": {
    "slideshow": {
     "slide_type": "subslide"
    }
   },
   "source": [
    "También hay muchas operaciones complejas relacionadas con estadísticas, como cálculos de matrices de correlación, desviaciones y varianzas, histogramas. Transformadas discretas de Fourier, cálculo de números pseudoaleatorios y un largo etc. \n",
    "\n",
    "Como ejemplo, creemos distribuciones aleatorias y veamos algunas de sus propiedades"
   ]
  },
  {
   "cell_type": "code",
   "execution_count": 11,
   "metadata": {},
   "outputs": [],
   "source": [
    "g1 = np.random.default_rng() # creamos un objeto generador\n",
    "n = 1000000 # vamos a generar distribuciones de un millon de numeros aleatorios\n",
    "unif = g1.uniform(size=n) # distribucion uniforme\n",
    "norm = g1.normal(size=n)\n",
    "pois = g1.poisson(size=n)\n",
    "expo = g1.exponential(size=n)"
   ]
  },
  {
   "cell_type": "code",
   "execution_count": 12,
   "metadata": {},
   "outputs": [
    {
     "name": "stdout",
     "output_type": "stream",
     "text": [
      "Medias, medianas y varianzas de cada distribucion\n",
      "Uniforme - media: 0.5001702115968182 - mediana: 0.5000555421831345 - stdev: 0.28860728142320585\n",
      "Normal - media: 0.00016001617178576104 - mediana: -0.00016181192681302573 - stdev: 1.000091930903227\n",
      "Poisson - media: 0.998548 - mediana: 1.0 - stdev: 1.0002789069534557\n",
      "Exponencial - media: 0.9990484511011648 - mediana: 0.6929883845291498 - stdev: 0.9989817138085245\n"
     ]
    }
   ],
   "source": [
    "print('Medias, medianas y varianzas de cada distribucion')\n",
    "print(f'Uniforme - media: {unif.mean()} - mediana: {np.median(unif)} - stdev: {unif.std()}')\n",
    "print(f'Normal - media: {norm.mean()} - mediana: {np.median(norm)} - stdev: {norm.std()}')\n",
    "print(f'Poisson - media: {pois.mean()} - mediana: {np.median(pois)} - stdev: {pois.std()}')\n",
    "print(f'Exponencial - media: {expo.mean()} - mediana: {np.median(expo)} - stdev: {expo.std()}')"
   ]
  },
  {
   "cell_type": "code",
   "execution_count": 13,
   "metadata": {
    "slideshow": {
     "slide_type": "fragment"
    }
   },
   "outputs": [
    {
     "name": "stdout",
     "output_type": "stream",
     "text": [
      "[0.  0.1 0.2 0.3 0.4 0.5 0.6 0.7 0.8 0.9 1. ]\n",
      "[ 99694  99897  99982 100047 100314 100191 100039  99739  99668 100429]\n",
      "[95398 85699 78215 70172 64006 57996 51949 47554 43061 38464]\n"
     ]
    }
   ],
   "source": [
    "# se pueden calcular histogramas\n",
    "histo_unif, bins_unif = np.histogram(unif, range=(0,1),bins=10)  #los bins tienen n+1 elementos (devuelve los bordes)\n",
    "#voy a hacer la funcion integrada de numpy para contrastar\n",
    "histo_expo, bins_expo = np.histogram(expo, range=(0,1),bins=10)\n",
    "\n",
    "print(bins_expo)\n",
    "print(histo_unif)\n",
    "print(histo_expo)"
   ]
  },
  {
   "cell_type": "code",
   "execution_count": null,
   "metadata": {},
   "outputs": [],
   "source": []
  }
 ],
 "metadata": {
  "celltoolbar": "Slideshow",
  "kernelspec": {
   "display_name": "Python 3",
   "language": "python",
   "name": "python3"
  },
  "language_info": {
   "codemirror_mode": {
    "name": "ipython",
    "version": 3
   },
   "file_extension": ".py",
   "mimetype": "text/x-python",
   "name": "python",
   "nbconvert_exporter": "python",
   "pygments_lexer": "ipython3",
   "version": "3.10.12"
  }
 },
 "nbformat": 4,
 "nbformat_minor": 4
}
