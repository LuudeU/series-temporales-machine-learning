{
 "cells": [
  {
   "attachments": {},
   "cell_type": "markdown",
   "metadata": {},
   "source": [
    "# Análisis de Series Temporales\n",
    "\n",
    "## Visualización e Intuición\n",
    "\n",
    "La herramienta principal para el análisis de series temporales es la inspección visual, para ello resulta imprescindible manejar herramientas gráficas. En este curso utilizaremos la librería `matplotlib`. Para leer archivos lo haremos utilizando la librería `csv`.\n",
    "\n",
    "Para abrir un archivo utilzaremos la sentencia `open` con el handler `with`."
   ]
  },
  {
   "cell_type": "code",
   "execution_count": 1,
   "metadata": {},
   "outputs": [],
   "source": [
    "import csv\n",
    "import matplotlib.pyplot as plt"
   ]
  },
  {
   "attachments": {},
   "cell_type": "markdown",
   "metadata": {},
   "source": [
    "Siempre hay que conocer la forma que tiene el archivo a leer. En nuestro caso examinaremos dos de ellos:\n",
    "1. Precios de mercado de Google\n",
    "```\n",
    "Date,Open,High,Low,Close,Adj Close,Volume\n",
    "2010-01-04,15.689439,15.753504,15.621622,15.684434,15.684434,78169752\n",
    "2010-01-05,15.695195,15.711712,15.554054,15.615365,15.615365,120067812\n",
    "2010-01-06,15.662162,15.662162,15.174174,15.221722,15.221722,158988852\n",
    "2010-01-07,15.250250,15.265265,14.831081,14.867367,14.867367,256315428\n",
    "2010-01-08,14.814815,15.096346,14.742492,15.065566,15.065566,188783028\n",
    "```\n",
    "2. Datos del SMN \n",
    "```\n",
    "FECHA     HORA  TEMP   HUM   PNM    DD    FF     NOMBRE                                             \n",
    "         [HOA]  [�C]   [%]  [hPa]  [gr] [km/hr]                                                     \n",
    "02062023     0  18.0   84  1016.4   50   11     AEROPARQUE AERO                                     \n",
    "02062023     1  18.4   83  1015.5   20    9     AEROPARQUE AERO                                     \n",
    "02062023     2  18.3   83  1015.2   20    9     AEROPARQUE AERO                                     \n",
    "02062023     3  18.4   83  1015.2  360   13     AEROPARQUE AERO                                     \n",
    "02062023     4  18.2   84  1014.6  350    9     AEROPARQUE AERO                                     \n",
    "```"
   ]
  },
  {
   "cell_type": "code",
   "execution_count": 2,
   "metadata": {},
   "outputs": [],
   "source": [
    "data_google = '../Data/googleStock/Google_Stock_Train (2010-2022).csv'\n",
    "data_smn = '../Data/junio-SMN/horario/datohorario20230602.txt'"
   ]
  },
  {
   "cell_type": "code",
   "execution_count": 62,
   "metadata": {},
   "outputs": [
    {
     "name": "stdout",
     "output_type": "stream",
     "text": [
      "Date: 2010-01-05\n",
      "Open: 15.695195\n",
      "High: 15.711712\n",
      "Low: 15.554054\n",
      "Close: 15.615365\n",
      "Adj Close: 15.615365\n",
      "Volume: 120067812\n"
     ]
    }
   ],
   "source": [
    "with open( data_google, 'r') as fp:\n",
    "    reader = csv.DictReader(fp, delimiter=',')  # Leer como diccionarios\n",
    "    g_data = []                                 # Lista de diccionarios\n",
    "    for row in reader:\n",
    "        g_data.append(row)\n",
    "for k,v in g_data[1].items():\n",
    "    print(f'{k}: {v}')"
   ]
  },
  {
   "cell_type": "code",
   "execution_count": 66,
   "metadata": {},
   "outputs": [
    {
     "name": "stdout",
     "output_type": "stream",
     "text": [
      "['FECHA', 'HORA', 'TEMP', 'HUM', 'PNM', 'DD', 'FF', 'NOMBRE']\n",
      "['[HOA]', '[�C]', '[%]', '[hPa]', '[gr]', '[km/hr]']\n",
      "['02062023', '6', '19.0', '84', '1011.5', '30', '17', 'ROSARIO AERO']\n",
      "['02062023', '11', '11.2', '49', '994.8', '320', '33', 'PUERTO DESEADO AERO']\n",
      "['02062023', '12', '10.2', '69', '1448.0', '250', '13', 'MALARGUE AERO']\n",
      "['02062023', '18', '26.4', '63', '1004.1', '0', '0', 'ORAN AERO']\n",
      "['02062023', '22', '20.3', '81', '1012.2', '360', '9', 'LA PLATA AERO']\n",
      "['02062023', '17', '23.9', '53', '1005.4', '180', '11', 'SAN LUIS AERO']\n",
      "['02062023', '15', '27.4', '50', '1003.8', '340', '7', 'CORDOBA OBSERVATORIO']\n",
      "['02062023', '8', '11.1', '94', '1007.6', '20', '4', 'TUCUMAN AERO']\n",
      "['02062023', '21', '1.2', '92', '989.2', '320', '17', 'RIO GRANDE B.A.']\n",
      "['02062023', '5', '-3.2', '32', '3116.0', '0', '0', 'LA QUIACA OBSERVATORIO']\n",
      "['02062023', '9', '19.5', '85', '1015.9', '70', '20', 'FORMOSA AERO']\n",
      "['02062023', '8', '15.4', '98', '1014.0', '70', '9', 'PRESIDENCIA ROQUE SAENZ PE']\n",
      "['02062023', '14', '18.9', '54', '1007.8', '180', '13', 'SAN RAFAEL AERO']\n",
      "['02062023', '13', '16.0', '32', '1010.8', '340', '7', 'SAN ANTONIO OESTE AERO']\n",
      "['02062023', '4', '18.2', '85', '1014.2', '30', '20', 'RECONQUISTA AERO']\n",
      "['02062023', '8', '17.2', '94', '1017.6', '90', '7', 'POSADAS AERO']\n",
      "['02062023', '17', '20.6', '48', '1006.4', '140', '13', 'MENDOZA AERO']\n",
      "['02062023', '22', '13.2', '51', '1011.4', '320', '9', 'NEUQUEN AERO']\n",
      "['02062023', '6', '9.2', '90', '1006.3', '20', '4', 'CATAMARCA AERO']\n",
      "['02062023', '5', '15.8', '78', '1484.0', '290', '6', 'JUJUY AERO']\n",
      "['02062023', '4', '18.2', '84', '1014.6', '350', '9', 'AEROPARQUE AERO']\n",
      "['02062023', '13', '24.8', '67', '1016.4', '50', '11', 'POSADAS AERO']\n",
      "['02062023', '21', '1.2', '92', '989.2', '320', '17', 'RIO GRANDE B.A.']\n",
      "['02062023', '18', '24.2', '68', '1010.4', '50', '11', 'CORRIENTES AERO']\n",
      "['02062023', '8', '13.8', '87', '1478.0', '290', '7', 'JUJUY AERO']\n",
      "['02062023', '14', '24.5', '69', '1012.2', '340', '41', 'GUALEGUAYCHU AERO']\n",
      "['02062023', '15', '20.9', '50', '1008.5', '160', '26', 'SANTA ROSA AERO']\n",
      "['02062023', '10', '13.3', '88', '1007.3', '140', '4', 'LA RIOJA AERO']\n",
      "['02062023', '0', '-13.6', '52', '990.0', '50', '30', 'BASE BELGRANO II']\n",
      "['02062023', '13', '14.3', '41', '998.3', '290', '41', 'COMODORO RIVADAVIA AERO']\n",
      "['02062023', '23', '23.0', '77', '1010.5', '70', '15', 'PRESIDENCIA ROQUE SAENZ PE']\n",
      "['02062023', '17', '13.5', '33', '993.9', '290', '43', 'SAN JULIAN AERO']\n",
      "['02062023', '16', '24.2', '68', '1010.5', '340', '30', 'GUALEGUAYCHU AERO']\n",
      "['02062023', '18', '22.6', '51', '1395.0', '90', '9', 'TINOGASTA']\n",
      "['02062023', '0', '17.5', '83', '1017.0', '50', '13', 'MERLO AERO']\n",
      "['02062023', '10', '19.8', '81', '1013.7', '360', '19', 'MORON AERO']\n",
      "['02062023', '15', '12.5', '57', '1008.0', '360', '19', 'EL BOLSON AERO']\n",
      "['02062023', '9', '7.0', '88', '983.7', '320', '22', 'USHUAIA AERO']\n",
      "['02062023', '22', '10.8', '91', '1011.1', '220', '6', 'CORDOBA AERO']\n",
      "['02062023', '16', '19.8', '50', '1009.7', '160', '26', 'SANTA ROSA AERO']\n",
      "['02062023', '0', '16.4', '95', '1018.3', '70', '7', 'PASO DE LOS LIBRES AERO']\n",
      "['02062023', '19', '17.1', '67', '1451.0', '200', '7', 'MENDOZA OBSERVATORIO']\n",
      "['02062023', '4', '7.2', '89', '1007.2', '0', '0', 'SAN MARTIN (MZA)']\n",
      "['02062023', '18', '20.8', '61', '1008.7', '180', '7', 'VILLA REYNOLDS AERO']\n",
      "['02062023', '0', '19.8', '75', '1014.4', '90', '13', 'SAUCE VIEJO AERO']\n",
      "['02062023', '4', '12.9', '90', '1009.6', '0', '0', 'LABOULAYE AERO']\n",
      "['02062023', '3', '16.0', '91', '1018.0', '90', '6', 'IGUAZU AERO']\n",
      "['02062023', '22', '5.8', '72', '1009.6', '290', '20', 'CHAPELCO AERO']\n",
      "['02062023', '15', '24.0', '46', '1006.7', '180', '13', 'VILLA REYNOLDS AERO']\n",
      "['02062023', '23', '9.5', '77', '1012.7', '330', '7', 'BAHIA BLANCA AERO']\n"
     ]
    }
   ],
   "source": [
    "# Los datos del SMN tienen dos columnas de encabezado, hay que leer con cuidado, \n",
    "# parece estar hecho en un encoding traido de windows.\n",
    "# Los archivos parecen tener ancho de columnas fijas\n",
    "with open(data_smn, 'rb') as fp:\n",
    "    headers = next(fp).decode().split()\n",
    "    units = next(fp).decode(errors='replace').split()\n",
    "    smn_data = []\n",
    "    for line in fp:\n",
    "        lines = line.decode(errors='replace')\n",
    "        smn_data.append([\n",
    "            lines[:8].strip(), \n",
    "            lines[8:14].strip(), \n",
    "            lines[14:20].strip(), \n",
    "            lines[20:25].strip(), \n",
    "            lines[25:33].strip(), \n",
    "            lines[33:38].strip(),\n",
    "            lines[38:43].strip(),\n",
    "            lines[43:].strip()\n",
    "            ])\n",
    "\n",
    "# limpiando las columnas con salto de carro\n",
    "clean = []\n",
    "for l in smn_data:\n",
    "    if l[0] != '':\n",
    "        clean.append(l)\n",
    "\n",
    "for l in range(len(clean)):\n",
    "    for it in range(len(clean[l])):\n",
    "        if clean[l][it] == '':\n",
    "            clean[l][it] = '-1'\n",
    "\n",
    "\n",
    "smn_data = clean\n",
    "print(headers)\n",
    "print(units)\n",
    "import random\n",
    "for i in range(50):\n",
    "    print(random.choice(smn_data))"
   ]
  },
  {
   "attachments": {},
   "cell_type": "markdown",
   "metadata": {},
   "source": [
    "Utilizando la libreria `datetime` para manejar datos de fechas y horas.\n",
    "\n",
    "En este caso se convertirá el dato de fechas a objetos de datetime"
   ]
  },
  {
   "cell_type": "code",
   "execution_count": 67,
   "metadata": {},
   "outputs": [],
   "source": [
    "from datetime import datetime"
   ]
  },
  {
   "cell_type": "code",
   "execution_count": 68,
   "metadata": {},
   "outputs": [],
   "source": [
    "smn_data_standarized = [{}]\n",
    "for d in smn_data:\n",
    "    # Since data is not very well structured and a lot of carriage return appear\n",
    "    if len(d) > 7:\n",
    "        smn_data_standarized.append({\n",
    "            'fecha': datetime.strptime(d[0],'%d%m%Y').date(),\n",
    "            'hora': int(d[1]),\n",
    "            'temp': float(d[2]),\n",
    "            'hum': float(d[3]),\n",
    "            'pres': float(d[4]),\n",
    "            'v_direcc': int(d[5]),\n",
    "            'v_intens': float(d[6]),\n",
    "            'estac': d[7]\n",
    "        }\n",
    "        )\n",
    "    # try:\n",
    "    #     print(datetime.strptime(d[0],'%d%m%Y').date())\n",
    "    # except:\n",
    "    #     print(d[0])"
   ]
  },
  {
   "cell_type": "code",
   "execution_count": null,
   "metadata": {},
   "outputs": [],
   "source": []
  }
 ],
 "metadata": {
  "kernelspec": {
   "display_name": "Python 3",
   "language": "python",
   "name": "python3"
  },
  "language_info": {
   "codemirror_mode": {
    "name": "ipython",
    "version": 3
   },
   "file_extension": ".py",
   "mimetype": "text/x-python",
   "name": "python",
   "nbconvert_exporter": "python",
   "pygments_lexer": "ipython3",
   "version": "3.10.12"
  },
  "orig_nbformat": 4
 },
 "nbformat": 4,
 "nbformat_minor": 2
}
