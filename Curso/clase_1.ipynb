{
 "cells": [
  {
   "attachments": {},
   "cell_type": "markdown",
   "metadata": {},
   "source": [
    "# Análisis de Series Temporales\n",
    "\n",
    "## Visualización e Intuición\n",
    "\n",
    "La herramienta principal para el análisis de series temporales es la inspección visual, para ello resulta imprescindible manejar herramientas gráficas. En este curso utilizaremos la librería `matplotlib`. Para leer archivos lo haremos utilizando la librería `csv`.\n",
    "\n",
    "Para abrir un archivo utilzaremos la sentencia `open` con el handler `with`."
   ]
  },
  {
   "cell_type": "code",
   "execution_count": 8,
   "metadata": {},
   "outputs": [],
   "source": [
    "import csv\n",
    "import matplotlib.pyplot as plt"
   ]
  },
  {
   "attachments": {},
   "cell_type": "markdown",
   "metadata": {},
   "source": [
    "Siempre hay que conocer la forma que tiene el archivo a leer. En nuestro caso examinaremos dos de ellos:\n",
    "1. Precios de mercado de Google\n",
    "```\n",
    "Date,Open,High,Low,Close,Adj Close,Volume\n",
    "2010-01-04,15.689439,15.753504,15.621622,15.684434,15.684434,78169752\n",
    "2010-01-05,15.695195,15.711712,15.554054,15.615365,15.615365,120067812\n",
    "2010-01-06,15.662162,15.662162,15.174174,15.221722,15.221722,158988852\n",
    "2010-01-07,15.250250,15.265265,14.831081,14.867367,14.867367,256315428\n",
    "2010-01-08,14.814815,15.096346,14.742492,15.065566,15.065566,188783028\n",
    "```\n",
    "2. Datos del SMN \n",
    "```\n",
    "FECHA     HORA  TEMP   HUM   PNM    DD    FF     NOMBRE                                             \n",
    "         [HOA]  [�C]   [%]  [hPa]  [gr] [km/hr]                                                     \n",
    "02062023     0  18.0   84  1016.4   50   11     AEROPARQUE AERO                                     \n",
    "02062023     1  18.4   83  1015.5   20    9     AEROPARQUE AERO                                     \n",
    "02062023     2  18.3   83  1015.2   20    9     AEROPARQUE AERO                                     \n",
    "02062023     3  18.4   83  1015.2  360   13     AEROPARQUE AERO                                     \n",
    "02062023     4  18.2   84  1014.6  350    9     AEROPARQUE AERO                                     \n",
    "```"
   ]
  },
  {
   "cell_type": "code",
   "execution_count": 24,
   "metadata": {},
   "outputs": [],
   "source": [
    "data_google = '../Data/googleStock/Google_Stock_Train (2010-2022).csv'\n",
    "data_smn = '../Data/junio-SMN/horario/datohorario20230602.txt'"
   ]
  },
  {
   "cell_type": "code",
   "execution_count": 25,
   "metadata": {},
   "outputs": [
    {
     "name": "stdout",
     "output_type": "stream",
     "text": [
      "{'Date': '2010-01-04', 'Open': '15.689439', 'High': '15.753504', 'Low': '15.621622', 'Close': '15.684434', 'Adj Close': '15.684434', 'Volume': '78169752'}\n"
     ]
    }
   ],
   "source": [
    "with open( data_google, 'r') as fp:\n",
    "    reader = csv.DictReader(fp, delimiter=',')  # Leer como diccionarios\n",
    "    g_data = []                                 # Lista de diccionarios\n",
    "    for row in reader:\n",
    "        g_data.append(row)\n",
    "print(g_data[0])"
   ]
  },
  {
   "cell_type": "code",
   "execution_count": 66,
   "metadata": {},
   "outputs": [],
   "source": [
    "# Los datos del SMN tienen dos columnas de encabezado, hay que leer con cuidado, parece estar hecho en un encoding traido de windows.\n",
    "with open(data_smn, 'rb') as fp:\n",
    "    headers = next(fp).decode().split()\n",
    "    units = next(fp).decode(errors='replace').split()\n",
    "    smn_data = []\n",
    "    for line in fp:\n",
    "        smn_data.append(line.decode(errors='replace').split())"
   ]
  },
  {
   "cell_type": "code",
   "execution_count": 69,
   "metadata": {},
   "outputs": [
    {
     "data": {
      "text/plain": [
       "['FECHA', 'HORA', 'TEMP', 'HUM', 'PNM', 'DD', 'FF', 'NOMBRE']"
      ]
     },
     "execution_count": 69,
     "metadata": {},
     "output_type": "execute_result"
    }
   ],
   "source": [
    "headers\n"
   ]
  },
  {
   "cell_type": "code",
   "execution_count": null,
   "metadata": {},
   "outputs": [],
   "source": []
  }
 ],
 "metadata": {
  "kernelspec": {
   "display_name": "Python 3",
   "language": "python",
   "name": "python3"
  },
  "language_info": {
   "codemirror_mode": {
    "name": "ipython",
    "version": 3
   },
   "file_extension": ".py",
   "mimetype": "text/x-python",
   "name": "python",
   "nbconvert_exporter": "python",
   "pygments_lexer": "ipython3",
   "version": "3.9.6"
  },
  "orig_nbformat": 4
 },
 "nbformat": 4,
 "nbformat_minor": 2
}
